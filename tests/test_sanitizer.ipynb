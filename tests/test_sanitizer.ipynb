{
 "cells": [
  {
   "cell_type": "code",
   "execution_count": null,
   "metadata": {},
   "outputs": [],
   "source": [
    "from ipywidgets.widgets.util import sanitize\n",
    "\n",
    "print(sanitize('<b>ok</b>'))\n",
    "print(sanitize(\"<i>My text</i>\"))\n",
    "print(sanitize(\"<a href='http://www.this.site'>My distant link</a>\"))\n",
    "print(sanitize(\"<a href='#here'>My local link</a>\"))\n",
    "print(sanitize(\"<img src='here.png' title='àçeù' />\"))\n",
    "print(sanitize(\"<li>This should be ok</li><script>Some javascript</script><em>This is OK too</em>\"))"
   ]
  },
  {
   "cell_type": "code",
   "execution_count": null,
   "metadata": {},
   "outputs": [],
   "source": [
    "from ipywidgets.widgets.widget_description import DescriptionWidget\n",
    "d = DescriptionWidget(description=\"<script>ok</script>\")\n",
    "d.description\n",
    "d"
   ]
  },
  {
   "cell_type": "code",
   "execution_count": null,
   "metadata": {},
   "outputs": [],
   "source": [
    "from ipywidgets import *"
   ]
  },
  {
   "cell_type": "code",
   "execution_count": null,
   "metadata": {},
   "outputs": [],
   "source": [
    "Text(description=\"<b>ok</b>\")"
   ]
  },
  {
   "cell_type": "code",
   "execution_count": null,
   "metadata": {},
   "outputs": [],
   "source": [
    "Text(description=\"<script>ok</script><i>OK</i>\", description_html=True)"
   ]
  },
  {
   "cell_type": "code",
   "execution_count": null,
   "metadata": {},
   "outputs": [],
   "source": [
    "Checkbox(description=\"<b>ok</b><i>OK</i>\", description_html=False)"
   ]
  },
  {
   "cell_type": "code",
   "execution_count": null,
   "metadata": {},
   "outputs": [],
   "source": [
    "Checkbox(description=\"<b>ok</b><script>OK</script>\", description_html = True)"
   ]
  },
  {
   "cell_type": "code",
   "execution_count": null,
   "metadata": {},
   "outputs": [],
   "source": [
    "Label(\"<script>ok</script>\")"
   ]
  },
  {
   "cell_type": "code",
   "execution_count": null,
   "metadata": {},
   "outputs": [],
   "source": [
    "Label.__mro__, Text.__mro__"
   ]
  }
 ],
 "metadata": {
  "kernelspec": {
   "display_name": "Python 3",
   "language": "python",
   "name": "python3"
  },
  "language_info": {
   "codemirror_mode": {
    "name": "ipython",
    "version": 3
   },
   "file_extension": ".py",
   "mimetype": "text/x-python",
   "name": "python",
   "nbconvert_exporter": "python",
   "pygments_lexer": "ipython3",
   "version": "3.7.3"
  }
 },
 "nbformat": 4,
 "nbformat_minor": 2
}
